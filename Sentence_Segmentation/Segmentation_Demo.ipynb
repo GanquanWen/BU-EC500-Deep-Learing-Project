{
 "cells": [
  {
   "cell_type": "code",
   "execution_count": 20,
   "metadata": {
    "collapsed": true
   },
   "outputs": [],
   "source": [
    "import numpy as np\n",
    "import os\n",
    "import cv2\n",
    "import matplotlib.pyplot as plt"
   ]
  },
  {
   "cell_type": "code",
   "execution_count": 21,
   "metadata": {
    "collapsed": true
   },
   "outputs": [],
   "source": [
    "dir_source = \"test_sample/\" # path to the source image\n",
    "dir_saved = \"test_sample/saved/\" # path to the folder to save the segmentaion\n",
    "file_name = \"ni_hao.jpeg\""
   ]
  },
  {
   "cell_type": "code",
   "execution_count": 22,
   "metadata": {},
   "outputs": [
    {
     "name": "stdout",
     "output_type": "stream",
     "text": [
      "(594, 792)\n"
     ]
    }
   ],
   "source": [
    "image = cv2.imread('test_sample/ni_hao.jpeg')\n",
    "image = cv2.cvtColor(image, cv2.COLOR_BGR2GRAY)\n",
    "print(image.shape)"
   ]
  },
  {
   "cell_type": "code",
   "execution_count": 23,
   "metadata": {
    "collapsed": true
   },
   "outputs": [],
   "source": [
    "def scan_image_horizontal(image):\n",
    "    # Scan the image column by column to count how many dot in one column\n",
    "    # Save all the amount in an array \"horizontal\"\n",
    "    height = image.shape[0]\n",
    "    width = image.shape[1]\n",
    "    horizontal = np.zeros(width, dtype = int)\n",
    "    for x in range(width): # From left to right\n",
    "        count = 0 # The amount of dots of each column\n",
    "        for y in range(height): # From top to bottom\n",
    "            if (image[y][x] < 128) :\n",
    "                count = count + 1\n",
    "        horizontal[x] = count\n",
    "#     print(horizontal)\n",
    "    return horizontal\n",
    "\n",
    "def scan_image_vertical(image):\n",
    "    # Scan the image row by row to count how many dot in one row\n",
    "    # Save all the amount in an array \"vertical\"\n",
    "    height = image.shape[0]\n",
    "    width = image.shape[1]\n",
    "    vertical = np.zeros(height, dtype = int)\n",
    "    for y in range(height): # From top to bottom\n",
    "        count = 0 # The amount of dots of each row\n",
    "        for x in range(width): # From left to right\n",
    "            if (image[y][x] < 128) :\n",
    "                count = count + 1\n",
    "        vertical[y] = count\n",
    "    # print(vertical)\n",
    "    return vertical"
   ]
  },
  {
   "cell_type": "code",
   "execution_count": 24,
   "metadata": {
    "collapsed": true
   },
   "outputs": [],
   "source": [
    "def get_sentence_height(vertical):\n",
    "    start_point = None\n",
    "    end_point = None\n",
    "    for i, y in enumerate(vertical):\n",
    "        if y > 1 and start_point is None:\n",
    "            start_point = i\n",
    "        elif y > 1 and start_point is not None:\n",
    "            pass\n",
    "        elif y <= 1 and start_point is not None and end_point is None:\n",
    "            end_point = i\n",
    "        else:\n",
    "            pass\n",
    "    return end_point - start_point"
   ]
  },
  {
   "cell_type": "code",
   "execution_count": 25,
   "metadata": {
    "collapsed": true
   },
   "outputs": [],
   "source": [
    "def plot_peaks(array, direction):\n",
    "    # Draw the plot of the scanning result\n",
    "    x_axle = np.linspace(0, len(array), len(array))\n",
    "    plt.plot(x_axle, array)\n",
    "    plt.title('Dots Count')\n",
    "    plt.xlabel(direction)\n",
    "    plt.ylabel('number of dots')\n",
    "\n",
    "    plt.show()"
   ]
  },
  {
   "cell_type": "code",
   "execution_count": 26,
   "metadata": {},
   "outputs": [
    {
     "data": {
      "image/png": "[encoded data removed]",
      "text/plain": [
       "<matplotlib.figure.Figure at 0x12381fe80>"
      ]
     },
     "metadata": {},
     "output_type": "display_data"
    },
    {
     "data": {
      "image/png": "[encoded data removed]",
      "text/plain": [
       "<matplotlib.figure.Figure at 0x1239856a0>"
      ]
     },
     "metadata": {},
     "output_type": "display_data"
    },
    {
     "name": "stdout",
     "output_type": "stream",
     "text": [
      "The height of these characters is about: 84 pixel\n"
     ]
    }
   ],
   "source": [
    "horizontal = scan_image_horizontal(image)\n",
    "plot_peaks(horizontal, 'x')\n",
    "vertical = scan_image_vertical(image)\n",
    "plot_peaks(vertical, 'y')\n",
    "char_height = get_sentence_height(vertical)\n",
    "print('The height of these characters is about: ' + str(char_height) + ' pixel')"
   ]
  },
  {
   "cell_type": "code",
   "execution_count": 27,
   "metadata": {},
   "outputs": [
    {
     "name": "stdout",
     "output_type": "stream",
     "text": [
      "94\n",
      "74\n",
      "[(232, 326), (368, 442)]\n",
      "82\n",
      "[(319, 401)]\n"
     ]
    }
   ],
   "source": [
    "def segmentation(columns_sum, threshold, min_size):\n",
    "    # Cut the sentence into characters\n",
    "    # Because chinese characters are basically rectangle,\n",
    "    # So we can cut it according to the height of a sentence.\n",
    "    start_i = None\n",
    "    end_i = None\n",
    "    parts = []\n",
    "    for i, val in enumerate(columns_sum):\n",
    "        if val > threshold and start_i is None:\n",
    "            start_i = i\n",
    "        elif val > threshold and start_i is not None:\n",
    "            pass\n",
    "        elif val < threshold and start_i is not None:\n",
    "            if i - start_i >= min_size:\n",
    "                end_i = i\n",
    "                # print(end_i - start_i)\n",
    "                parts.append((start_i, end_i))\n",
    "                start_i = None\n",
    "                end_i = None\n",
    "        elif val < threshold and start_i is None:\n",
    "            pass\n",
    "    return parts\n",
    "\n",
    "horizontal_seg = segmentation(horizontal, 2, char_height * 0.75)\n",
    "print(horizontal_seg)\n",
    "\n",
    "vertical_seg = segmentation(vertical, 2, char_height * 0.75)\n",
    "print(vertical_seg)"
   ]
  },
  {
   "cell_type": "code",
   "execution_count": 29,
   "metadata": {},
   "outputs": [
    {
     "name": "stdout",
     "output_type": "stream",
     "text": [
      "row0pos0saved!\n",
      "row0pos1saved!\n"
     ]
    }
   ],
   "source": [
    "def cutImage(img, horizontal_ranges, vertical_ranges, output_size, dir_saved):\n",
    "    count = 0\n",
    "    for y, vertical_index_pair in enumerate(vertical_ranges):\n",
    "        for x, horizontal_index_pair in enumerate(horizontal_ranges):\n",
    "            count += 1\n",
    "            cutted_char = img[vertical_index_pair[0]    : vertical_index_pair[1], \n",
    "                              horizontal_index_pair[0] : horizontal_index_pair[1]]\n",
    "            resized_cutted_char = cv2.resize(cutted_char, output_size)\n",
    "            cv2.imwrite(dir_saved + \"row\" + str(y) + \"pos\" + str(x) + \".jpg\", resized_cutted_char)\n",
    "            print(\"row\" + str(y) + \"pos\" + str(x) + \"saved!\")\n",
    "        \n",
    "output_size = (150, 150)            \n",
    "cutImage(image, horizontal_seg, vertical_seg, output_size, dir_saved)"
   ]
  },
  {
   "cell_type": "code",
   "execution_count": null,
   "metadata": {
    "collapsed": true
   },
   "outputs": [],
   "source": []
  }
 ],
 "metadata": {
  "kernelspec": {
   "display_name": "Python 3",
   "language": "python",
   "name": "python3"
  },
  "language_info": {
   "codemirror_mode": {
    "name": "ipython",
    "version": 3
   },
   "file_extension": ".py",
   "mimetype": "text/x-python",
   "name": "python",
   "nbconvert_exporter": "python",
   "pygments_lexer": "ipython3",
   "version": "3.6.1"
  }
 },
 "nbformat": 4,
 "nbformat_minor": 2
}
